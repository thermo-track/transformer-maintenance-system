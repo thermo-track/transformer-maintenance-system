{
 "cells": [
  {
   "cell_type": "markdown",
   "id": "37c06c43",
   "metadata": {},
   "source": [
    "# Improved Training (rect, cache=disk, optimizer control, copy-paste)\n",
    "This version uses better defaults for small datasets and Colab T4, adds an optional fine-tuning stage, and keeps exports organized."
   ]
  },
  {
   "cell_type": "markdown",
   "id": "4973436c",
   "metadata": {},
   "source": [
    "# Train YOLO on Colab (T4) and export best.pt\n",
    "\n",
    "> This notebook mounts Google Drive, installs Ultralytics, verifies your project paths, runs training using `tms-fault-detection-model/train_yolo.py`, and copies `best.pt` plus key artifacts into an `exports/` folder for easy download.\n",
    "\n",
    "Expected Drive layout:\n",
    "- `/content/drive/MyDrive/Software design project/Annotated_dataset/data.yaml`\n",
    "- `/content/drive/MyDrive/Software design project/tms-fault-detection-model/train_yolo.py`\n",
    "\n",
    "Tip: In Colab, set Runtime -> Change runtime type -> Hardware accelerator: GPU (T4)."
   ]
  },
  {
   "cell_type": "code",
   "execution_count": null,
   "id": "8eb2f8cd",
   "metadata": {},
   "outputs": [],
   "source": [
    "# 1) Mount Google Drive\n",
    "from google.colab import drive\n",
    "drive.mount('/content/drive')"
   ]
  },
  {
   "cell_type": "code",
   "execution_count": null,
   "id": "846de3f1",
   "metadata": {},
   "outputs": [],
   "source": [
    "# 2) Install Ultralytics (YOLOv8/YOLO11)\n",
    "%pip install -q ultralytics"
   ]
  },
  {
   "cell_type": "code",
   "execution_count": null,
   "id": "00355d63",
   "metadata": {},
   "outputs": [],
   "source": [
    "# 3) Verify folder structure and GPU availability\n",
    "import os, torch\n",
    "ROOT = \"/content/drive/MyDrive/Software design project\"\n",
    "print(\"GPU available:\", torch.cuda.is_available())\n",
    "print(\"GPU name:\", torch.cuda.get_device_name(0) if torch.cuda.is_available() else \"CPU\")\n",
    "\n",
    "script_ok = os.path.exists(f\"{ROOT}/tms-fault-detection-model/train_yolo.py\")\n",
    "data_ok = os.path.exists(f\"{ROOT}/Annotated_dataset/data.yaml\")\n",
    "print(\"Training script exists:\", script_ok)\n",
    "print(\"Dataset YAML exists:\", data_ok)\n",
    "assert script_ok and data_ok, \"Drive structure mismatch. Ensure both paths exist as shown above.\""
   ]
  },
  {
   "cell_type": "code",
   "execution_count": null,
   "id": "808194a9",
   "metadata": {},
   "outputs": [],
   "source": [
    "# 4) Run training (adjust epochs/batch/imgsz/name as needed)\n",
    "!python \"/content/drive/MyDrive/Software design project/tms-fault-detection-model/train_yolo.py\" \\\n",
    "  --weights yolo11s.pt \\\n",
    "  --epochs 120 \\\n",
    "  --batch 16 \\\n",
    "  --imgsz 640 \\\n",
    "  --name yolo11s_colab_t4_rect_cache \\\n",
    "  --patience 30 \\\n",
    "  --optimizer AdamW \\\n",
    "  --lr0 0.0015 \\\n",
    "  --weight_decay 0.0005 \\\n",
    "  --mosaic 0.2 \\\n",
    "  --mixup 0.0 \\\n",
    "  --copy_paste 0.2 \\\n",
    "  --rect True \\\n",
    "  --cache disk \\\n",
    "  --workers 2 \\\n",
    "  --freeze 10"
   ]
  },
  {
   "cell_type": "code",
   "execution_count": null,
   "id": "b13cda25",
   "metadata": {},
   "outputs": [],
   "source": [
    "# 5) Locate best.pt and copy it to a stable path for easy download\n",
    "import glob, os, shutil\n",
    "ROOT = \"/content/drive/MyDrive/Software design project\"\n",
    "candidates = glob.glob(f\"{ROOT}/tms-fault-detection-model/runs/*/weights/best.pt\")\n",
    "if not candidates:\n",
    "    raise FileNotFoundError(\"No best.pt found. Check the training logs for errors.\")\n",
    "candidates.sort(key=os.path.getmtime)\n",
    "best = candidates[-1]\n",
    "print(\"Latest best.pt:\", best)\n",
    "\n",
    "export_dir = f\"{ROOT}/tms-fault-detection-model/exports\"\n",
    "os.makedirs(export_dir, exist_ok=True)\n",
    "dst = f\"{export_dir}/best.pt\"\n",
    "shutil.copy2(best, dst)\n",
    "print(\"Copied to:\", dst)\n",
    "\n",
    "# Optional: also copy summary plots/metrics from the same run\n",
    "run_dir = os.path.dirname(os.path.dirname(best))  # .../runs/<name>\n",
    "for fname in [\"results.png\", \"results.csv\", \"confusion_matrix.png\", \"PR_curve.png\", \"F1_curve.png\"]:\n",
    "    src = os.path.join(run_dir, fname)\n",
    "    if os.path.exists(src):\n",
    "        shutil.copy2(src, os.path.join(export_dir, fname))\n",
    "        print(\"Exported:\", fname)"
   ]
  },
  {
   "cell_type": "markdown",
   "id": "1f5581ab",
   "metadata": {},
   "source": [
    "## What to download after training\n",
    "- Primary: `tms-fault-detection-model/exports/best.pt`\n",
    "- Optional diagnostics: `results.png`, `results.csv`, `confusion_matrix.png`, `PR_curve.png`, `F1_curve.png` in `tms-fault-detection-model/exports/` (copied from the run folder)."
   ]
  },
  {
   "cell_type": "code",
   "execution_count": null,
   "id": "e05fe4ac",
   "metadata": {},
   "outputs": [],
   "source": [
    "# 6) (Optional) Download best.pt to your local machine (from Colab)\n",
    "from google.colab import files\n",
    "files.download(\"/content/drive/MyDrive/Software design project/tms-fault-detection-model/exports/best.pt\")"
   ]
  },
  {
   "cell_type": "code",
   "execution_count": null,
   "id": "3f0436e0",
   "metadata": {},
   "outputs": [],
   "source": [
    "# 7) (Optional) Fine-tune from best with lower LR for a few more epochs\n",
    "import glob, os, subprocess\n",
    "ROOT = \"/content/drive/MyDrive/Software design project\"\n",
    "candidates = glob.glob(f\"{ROOT}/tms-fault-detection-model/runs/*/weights/best.pt\")\n",
    "if candidates:\n",
    "    candidates.sort(key=os.path.getmtime)\n",
    "    best = candidates[-1]\n",
    "    print(\"Resuming from:\", best)\n",
    "    cmd = [\n",
    "        \"python\", f\"{ROOT}/tms-fault-detection-model/train_yolo.py\",\n",
    "        \"--weights\", best,\n",
    "        \"--epochs\", \"40\",\n",
    "        \"--batch\", \"16\",\n",
    "        \"--imgsz\", \"640\",\n",
    "        \"--name\", \"yolo11s_colab_t4_finetune\",\n",
    "        \"--patience\", \"20\",\n",
    "        \"--optimizer\", \"AdamW\",\n",
    "        \"--lr0\", \"0.0005\",\n",
    "        \"--weight_decay\", \"0.0005\",\n",
    "        \"--mosaic\", \"0.0\",\n",
    "        \"--mixup\", \"0.0\",\n",
    "        \"--copy_paste\", \"0.0\",\n",
    "        \"--rect\", \"True\",\n",
    "        \"--cache\", \"disk\",\n",
    "        \"--workers\", \"2\"\n",
    "    ]\n",
    "    print(\"Running:\", \" \".join(cmd))\n",
    "    subprocess.run(cmd, check=True)\n",
    "else:\n",
    "    print(\"No best.pt found to fine-tune from. Skipping.\")"
   ]
  },
  {
   "cell_type": "markdown",
   "id": "f1e6aeda",
   "metadata": {},
   "source": [
    "## Quick inference and visualization\n",
    "This cell loads the latest `best.pt`, runs inference on a few sample images, displays them inline, and saves annotated images into `tms-fault-detection-model/exports/infer/`.\n",
    "- Adjust `SAMPLES` to point to any maintenance images you want to preview."
   ]
  },
  {
   "cell_type": "code",
   "execution_count": null,
   "id": "fbfa0dd2",
   "metadata": {},
   "outputs": [],
   "source": [
    "# 8) Run inference on a few images and visualize\n",
    "import os, glob, shutil\n",
    "from pathlib import Path\n",
    "import matplotlib.pyplot as plt\n",
    "from ultralytics import YOLO\n",
    "\n",
    "ROOT = \"/content/drive/MyDrive/Software design project\"\n",
    "# 1) Find latest best.pt\n",
    "candidates = glob.glob(f\"{ROOT}/tms-fault-detection-model/runs/*/weights/best.pt\")\n",
    "assert candidates, \"No best.pt found. Train first, then re-run this cell.\"\n",
    "candidates.sort(key=os.path.getmtime)\n",
    "best = candidates[-1]\n",
    "print(\"Using weights:\", best)\n",
    "\n",
    "# 2) Define sample images for preview (adjust these)\n",
    "SAMPLES = [\n",
    "    f\"{ROOT}/Annotated_dataset/valid/images\",  # folder allowed\n",
    "    # You can also put specific image paths here, e.g.:\n",
    "    # f\"{ROOT}/test/images/T1_faulty_017_jpg.rf.343c025053fbbe4412ddb9db5b2a2517.jpg\",\n",
    "    # f\"{ROOT}/test/images/T13_normal_002_jpg.rf.5fe515713bbcde73bb886d4cd1530855.jpg\",\n",
    "]\n",
    "\n",
    "# 3) Collect image paths (from folders or files), limit to N\n",
    "def collect_images(paths, limit=6):\n",
    "    out = []\n",
    "    for p in paths:\n",
    "        if os.path.isdir(p):\n",
    "            out.extend(glob.glob(os.path.join(p, \"*.jpg\")))\n",
    "            out.extend(glob.glob(os.path.join(p, \"*.png\")))\n",
    "            out.extend(glob.glob(os.path.join(p, \"*.jpeg\")))\n",
    "        elif os.path.isfile(p):\n",
    "            out.append(p)\n",
    "    # unique + keep order\n",
    "    seen, uniq = set(), []\n",
    "    for x in out:\n",
    "        if x not in seen:\n",
    "            seen.add(x); uniq.append(x)\n",
    "    return uniq[:limit]\n",
    "\n",
    "images = collect_images(SAMPLES, limit=6)\n",
    "assert images, \"No images found for inference. Update SAMPLES to valid image paths.\"\n",
    "print(\"Images:\", images)\n",
    "\n",
    "# 4) Run prediction and visualize\n",
    "model = YOLO(best)\n",
    "export_dir = f\"{ROOT}/tms-fault-detection-model/exports/infer\"\n",
    "os.makedirs(export_dir, exist_ok=True)\n",
    "\n",
    "results = model.predict(images=images, conf=0.25, iou=0.45, imgsz=640, device=0 if model.device.type=='cuda' else 'cpu', save=False, verbose=False)\n",
    "\n",
    "for img_path, res in zip(images, results):\n",
    "    # Save an annotated image via Ultralytics rendering\n",
    "    plotted = res.plot()\n",
    "    out_path = os.path.join(export_dir, Path(img_path).name)\n",
    "    import cv2\n",
    "    cv2.imwrite(out_path, plotted)\n",
    "    print(\"Saved:\", out_path)\n",
    "    # Show inline\n",
    "    plt.figure(figsize=(6,6))\n",
    "    plt.imshow(plotted[..., ::-1])\n",
    "    plt.title(Path(img_path).name)\n",
    "    plt.axis('off')\n",
    "plt.show()"
   ]
  }
 ],
 "metadata": {
  "language_info": {
   "name": "python"
  }
 },
 "nbformat": 4,
 "nbformat_minor": 5
}
